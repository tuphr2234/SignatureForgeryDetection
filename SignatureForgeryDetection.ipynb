{
  "nbformat": 4,
  "nbformat_minor": 0,
  "metadata": {
    "colab": {
      "provenance": [],
      "collapsed_sections": [],
      "authorship_tag": "ABX9TyPTZ+Tn5lFGASKWH2OrgmUk",
      "include_colab_link": true
    },
    "kernelspec": {
      "name": "python3",
      "display_name": "Python 3"
    },
    "language_info": {
      "name": "python"
    },
    "accelerator": "GPU"
  },
  "cells": [
    {
      "cell_type": "markdown",
      "metadata": {
        "id": "view-in-github",
        "colab_type": "text"
      },
      "source": [
        "<a href=\"https://colab.research.google.com/github/tuphr2234/SignatureForgeryDetection/blob/main/SignatureForgeryDetection.ipynb\" target=\"_parent\"><img src=\"https://colab.research.google.com/assets/colab-badge.svg\" alt=\"Open In Colab\"/></a>"
      ]
    },
    {
      "cell_type": "code",
      "source": [
        "!pip install -q kaggle"
      ],
      "metadata": {
        "id": "hJuD_qHv-eme"
      },
      "execution_count": 2,
      "outputs": []
    },
    {
      "cell_type": "code",
      "source": [
        "#from google.colab import files\n",
        "#files.upload()"
      ],
      "metadata": {
        "id": "9_yEBIj1-qTg"
      },
      "execution_count": 3,
      "outputs": []
    },
    {
      "cell_type": "code",
      "source": [
        "! mkdir ~/.kaggle\n",
        "\n",
        "! cp kaggle.json ~/.kaggle/"
      ],
      "metadata": {
        "colab": {
          "base_uri": "https://localhost:8080/"
        },
        "id": "w1QBdwfn_IWG",
        "outputId": "3ae882bc-cbca-427d-b029-1b6d0fb47866"
      },
      "execution_count": 4,
      "outputs": [
        {
          "output_type": "stream",
          "name": "stdout",
          "text": [
            "mkdir: cannot create directory ‘/root/.kaggle’: File exists\n"
          ]
        }
      ]
    },
    {
      "cell_type": "code",
      "source": [
        "! chmod 600 ~/.kaggle/kaggle.json"
      ],
      "metadata": {
        "id": "Pv4VEt3N_x4q"
      },
      "execution_count": 5,
      "outputs": []
    },
    {
      "cell_type": "code",
      "source": [
        " #! kaggle datasets list"
      ],
      "metadata": {
        "id": "mDuhG_ta_3v6"
      },
      "execution_count": 6,
      "outputs": []
    },
    {
      "cell_type": "code",
      "execution_count": 7,
      "metadata": {
        "colab": {
          "base_uri": "https://localhost:8080/"
        },
        "id": "EJ0CaUDRqFJZ",
        "outputId": "ab8b0b2e-dd9b-456e-e56b-25cd46779a68"
      },
      "outputs": [
        {
          "output_type": "stream",
          "name": "stdout",
          "text": [
            "signature-verification-dataset.zip: Skipping, found more recently modified local copy (use --force to force download)\n"
          ]
        }
      ],
      "source": [
        "!kaggle datasets download -d robinreni/signature-verification-dataset"
      ]
    },
    {
      "cell_type": "markdown",
      "source": [],
      "metadata": {
        "id": "O8CVspgq6_81"
      }
    },
    {
      "cell_type": "code",
      "source": [
        "! mkdir dataset"
      ],
      "metadata": {
        "id": "-aDxmJP_7AOw",
        "colab": {
          "base_uri": "https://localhost:8080/"
        },
        "outputId": "bc7440dc-bfd2-4a99-9458-9c85ded1a775"
      },
      "execution_count": 8,
      "outputs": [
        {
          "output_type": "stream",
          "name": "stdout",
          "text": [
            "mkdir: cannot create directory ‘dataset’: File exists\n"
          ]
        }
      ]
    },
    {
      "cell_type": "code",
      "source": [
        "! unzip signature-verification-dataset.zip -d dataset"
      ],
      "metadata": {
        "colab": {
          "base_uri": "https://localhost:8080/"
        },
        "id": "PWor2ddJWump",
        "outputId": "ce6df48e-20e8-41ab-b25c-81870d87e225"
      },
      "execution_count": 9,
      "outputs": [
        {
          "output_type": "stream",
          "name": "stdout",
          "text": [
            "Archive:  signature-verification-dataset.zip\n",
            "replace dataset/sign_data/sign_data/test/049/01_049.png? [y]es, [n]o, [A]ll, [N]one, [r]ename: "
          ]
        }
      ]
    },
    {
      "cell_type": "code",
      "source": [
        "import os\n",
        "train_path = \"/content/dataset/sign_data/sign_data/train\"\n",
        "\n",
        "  \n",
        "  \n"
      ],
      "metadata": {
        "id": "1D8haKUHXH-A"
      },
      "execution_count": 10,
      "outputs": []
    },
    {
      "cell_type": "code",
      "source": [],
      "metadata": {
        "id": "Qn87LYPIZHfz"
      },
      "execution_count": 11,
      "outputs": []
    },
    {
      "cell_type": "code",
      "source": [],
      "metadata": {
        "id": "JEv_Um_ccQcD"
      },
      "execution_count": 11,
      "outputs": []
    },
    {
      "cell_type": "code",
      "source": [
        "#import pathlib\n",
        "#print(pathlib.Path(fileList[0].resolve())"
      ],
      "metadata": {
        "id": "SX3u4mb8m0JX"
      },
      "execution_count": 12,
      "outputs": []
    },
    {
      "cell_type": "code",
      "source": [],
      "metadata": {
        "id": "HxovbrX5loxZ"
      },
      "execution_count": 12,
      "outputs": []
    },
    {
      "cell_type": "code",
      "source": [
        "import numpy as np\n",
        "import os\n",
        "import PIL\n",
        "import PIL.Image\n",
        "import tensorflow as tf\n",
        "import pathlib\n",
        "\n",
        "\n",
        "data_dir = pathlib.Path('/content/dataset/sign_data/sign_data/train')\n"
      ],
      "metadata": {
        "id": "yEOwy7zFmxkn"
      },
      "execution_count": 13,
      "outputs": []
    },
    {
      "cell_type": "code",
      "source": [
        "image_count = len(list(data_dir.glob('*/*')))\n",
        "print(image_count)"
      ],
      "metadata": {
        "colab": {
          "base_uri": "https://localhost:8080/"
        },
        "id": "LYhTfZivnKT6",
        "outputId": "65a05a80-039b-4f57-cd4c-3966c1249979"
      },
      "execution_count": 14,
      "outputs": [
        {
          "output_type": "stream",
          "name": "stdout",
          "text": [
            "1649\n"
          ]
        }
      ]
    },
    {
      "cell_type": "code",
      "source": [
        "def rgb2gray(rgb):\n",
        "    return np.dot(rgb[...,:3], [0.2989, 0.5870, 0.1140])"
      ],
      "metadata": {
        "id": "s9EfMHcruBh5"
      },
      "execution_count": 15,
      "outputs": []
    },
    {
      "cell_type": "code",
      "source": [
        "%pylab inline\n",
        "import matplotlib.pyplot as plt\n",
        "import matplotlib.image as mpimg\n",
        "img = mpimg.imread(list(data_dir.glob('*/*'))[2])\n",
        "imgplot = plt.imshow(img)\n",
        "plt.show()"
      ],
      "metadata": {
        "colab": {
          "base_uri": "https://localhost:8080/",
          "height": 199
        },
        "id": "YaxB6YV_uHzn",
        "outputId": "39eb1467-08c3-444b-e838-f93ca8657f20"
      },
      "execution_count": 16,
      "outputs": [
        {
          "output_type": "stream",
          "name": "stdout",
          "text": [
            "Populating the interactive namespace from numpy and matplotlib\n"
          ]
        },
        {
          "output_type": "display_data",
          "data": {
            "text/plain": [
              "<Figure size 432x288 with 1 Axes>"
            ],
            "image/png": "[encoded data removed]"
          },
          "metadata": {
            "needs_background": "light"
          }
        }
      ]
    },
    {
      "cell_type": "code",
      "source": [
        "strListOfImg = list((data_dir.glob('*/*')))"
      ],
      "metadata": {
        "id": "3zJHlQ5UuSCB"
      },
      "execution_count": 17,
      "outputs": []
    },
    {
      "cell_type": "code",
      "source": [
        "strListOfImg = [str(st) for st in strListOfImg]"
      ],
      "metadata": {
        "id": "VdnmO0OJuZG8"
      },
      "execution_count": 18,
      "outputs": []
    },
    {
      "cell_type": "code",
      "source": [
        "strListOfImg.sort()"
      ],
      "metadata": {
        "id": "YVktBNtgp6oT"
      },
      "execution_count": 19,
      "outputs": []
    },
    {
      "cell_type": "code",
      "source": [
        "strListOfImg"
      ],
      "metadata": {
        "id": "7yQgkFzsOfK4"
      },
      "execution_count": null,
      "outputs": []
    },
    {
      "cell_type": "code",
      "source": [
        "img = mpimg.imread(strListOfImg[2])\n",
        "imgplot = plt.imshow(rgb2gray(img))\n",
        "plt.show()"
      ],
      "metadata": {
        "colab": {
          "base_uri": "https://localhost:8080/",
          "height": 209
        },
        "id": "ITuHyFl8qBo9",
        "outputId": "fad6c467-f080-4229-cbd6-ea3196a1eb72"
      },
      "execution_count": 21,
      "outputs": [
        {
          "output_type": "display_data",
          "data": {
            "text/plain": [
              "<Figure size 432x288 with 1 Axes>"
            ],
            "image/png": "[encoded data removed]"
          },
          "metadata": {
            "needs_background": "light"
          }
        }
      ]
    },
    {
      "cell_type": "code",
      "source": [],
      "metadata": {
        "id": "1hHmXDhFeMjF"
      },
      "execution_count": 21,
      "outputs": []
    },
    {
      "cell_type": "code",
      "source": [],
      "metadata": {
        "id": "kEbm2f40dwPo"
      },
      "execution_count": 21,
      "outputs": []
    },
    {
      "cell_type": "code",
      "source": [],
      "metadata": {
        "id": "bdDSi-YWZM_1"
      },
      "execution_count": 21,
      "outputs": []
    },
    {
      "cell_type": "code",
      "source": [
        "imgTensors = []\n",
        "for strImg in strListOfImg:\n",
        "  imgTensors.append(rgb2gray(mpimg.imread(strImg)))"
      ],
      "metadata": {
        "id": "xn9fGdfRGnXc"
      },
      "execution_count": 22,
      "outputs": []
    },
    {
      "cell_type": "code",
      "source": [],
      "metadata": {
        "colab": {
          "base_uri": "https://localhost:8080/"
        },
        "id": "p5oC3S1zHJmL",
        "outputId": "848eed3c-1016-4ca5-8f19-bd0ecc723d79"
      },
      "execution_count": 23,
      "outputs": [
        {
          "output_type": "execute_result",
          "data": {
            "text/plain": [
              "(435, 674)"
            ]
          },
          "metadata": {},
          "execution_count": 23
        }
      ]
    },
    {
      "cell_type": "code",
      "source": [
        "width=height=0\n",
        "for i in range(len(imgTensors)):\n",
        "  height+=imgTensors[i].shape[0]\n",
        "  width+=imgTensors[i].shape[1]\n",
        "\n",
        "height = round(height /len(imgTensors))  \n",
        "width = round(width /len(imgTensors))      "
      ],
      "metadata": {
        "id": "nxO67rZqQrWe"
      },
      "execution_count": 24,
      "outputs": []
    },
    {
      "cell_type": "code",
      "source": [],
      "metadata": {
        "id": "81u-lJXu_hN1"
      },
      "execution_count": 24,
      "outputs": []
    },
    {
      "cell_type": "code",
      "source": [
        "''''' \n",
        "min=max=imgTensors[0].shape[0] / imgTensors[0].shape[1]\n",
        "for i in range(len(imgTensors)):\n",
        "  rasio = imgTensors[i].shape[0] / imgTensors[i].shape[1]\n",
        "  if rasio > max:\n",
        "    max = rasio\n",
        "  if rasio < min:\n",
        "    min = rasio\n",
        "\n",
        "  print(f\"height/width: min is {min} max is {max}\")\n",
        "  '''''"
      ],
      "metadata": {
        "id": "Ab5TxNhhXB5z"
      },
      "execution_count": null,
      "outputs": []
    },
    {
      "cell_type": "code",
      "source": [
        "#### resize all signature to the same size ((changing the size))   or  padding?\n",
        "import cv2\n",
        "for i,img in enumerate(imgTensors):\n",
        "  imgTensors[i] = cv2.resize(img,(width // 6,height // 6 ))\n",
        "\n"
      ],
      "metadata": {
        "id": "l3hYhoDPHT7G"
      },
      "execution_count": 26,
      "outputs": []
    },
    {
      "cell_type": "code",
      "source": [],
      "metadata": {
        "id": "G0Ex8Vfs_YfD"
      },
      "execution_count": 26,
      "outputs": []
    },
    {
      "cell_type": "code",
      "source": [],
      "metadata": {
        "id": "3Kw7l5-zAq_i"
      },
      "execution_count": 26,
      "outputs": []
    },
    {
      "cell_type": "code",
      "source": [
        "realSignatures = [] ## list of list of real signatures       ### should both be in the same size!\n",
        "forgedSignatures = [] ## list of list of forged  signatures\n",
        "\n",
        "real = []\n",
        "forged = []\n",
        "counter = 0\n",
        "\n",
        "\n",
        "while counter<len(imgTensors):\n",
        "  \n",
        " \n",
        "  while counter<len(imgTensors) and \"forg\" not in strListOfImg[counter]:\n",
        "    real.append(imgTensors[counter])\n",
        "    counter+=1\n",
        "    \n",
        "  \n",
        "  while counter<len(imgTensors) and \"forg\" in strListOfImg[counter]:\n",
        "    forged.append(imgTensors[counter])\n",
        "    counter+=1\n",
        "\n",
        "  realSignatures.append(real)\n",
        "  forgedSignatures.append(forged)\n",
        "\n",
        "\n",
        "  real = []\n",
        "  forged= []\n",
        "\n"
      ],
      "metadata": {
        "id": "CfiZGLjSFXGA"
      },
      "execution_count": 27,
      "outputs": []
    },
    {
      "cell_type": "code",
      "source": [
        "plt.imshow(forgedSignatures[63][4])"
      ],
      "metadata": {
        "colab": {
          "base_uri": "https://localhost:8080/",
          "height": 205
        },
        "id": "JNPum0CRDQl2",
        "outputId": "4216505b-a869-4a99-e19a-11b673a96697"
      },
      "execution_count": 28,
      "outputs": [
        {
          "output_type": "execute_result",
          "data": {
            "text/plain": [
              "<matplotlib.image.AxesImage at 0x7f3e758a8250>"
            ]
          },
          "metadata": {},
          "execution_count": 28
        },
        {
          "output_type": "display_data",
          "data": {
            "text/plain": [
              "<Figure size 432x288 with 1 Axes>"
            ],
            "image/png": "[encoded data removed]"
          },
          "metadata": {
            "needs_background": "light"
          }
        }
      ]
    },
    {
      "cell_type": "code",
      "source": [
        "forgedSignatures[63][4]"
      ],
      "metadata": {
        "colab": {
          "base_uri": "https://localhost:8080/"
        },
        "id": "wmigyX_5Vvku",
        "outputId": "7b5800f9-86b4-41ea-a8ba-6f264dfde422"
      },
      "execution_count": 29,
      "outputs": [
        {
          "output_type": "execute_result",
          "data": {
            "text/plain": [
              "array([[0.98268039, 0.98268039, 0.98268039, ..., 0.98268039, 0.98268039,\n",
              "        0.98268039],\n",
              "       [0.98268039, 0.98268039, 0.98268039, ..., 0.98187697, 0.98083863,\n",
              "        0.98268039],\n",
              "       [0.98268039, 0.98268039, 0.98268039, ..., 0.98268039, 0.98268039,\n",
              "        0.98268039],\n",
              "       ...,\n",
              "       [0.98242624, 0.98268039, 0.98268039, ..., 0.98268039, 0.98268039,\n",
              "        0.98268039],\n",
              "       [0.98268039, 0.98268039, 0.72500498, ..., 0.98190474, 0.98268039,\n",
              "        0.98268039],\n",
              "       [0.98131837, 0.96759981, 0.38724469, ..., 0.98268039, 0.98258137,\n",
              "        0.98268039]])"
            ]
          },
          "metadata": {},
          "execution_count": 29
        }
      ]
    },
    {
      "cell_type": "code",
      "source": [
        "def substructImgs(img1,img2):\n",
        "  return img1 - img2"
      ],
      "metadata": {
        "id": "pEqEngIwiJOn"
      },
      "execution_count": 30,
      "outputs": []
    },
    {
      "cell_type": "code",
      "source": [
        "def avgImgs(img1,img2):\n",
        "  return (img1+img2)/2"
      ],
      "metadata": {
        "id": "I0RkQyWgzJQi"
      },
      "execution_count": 31,
      "outputs": []
    },
    {
      "cell_type": "code",
      "source": [
        "def mixImg(img1,img2):\n",
        "  arr = np.zeros([height //6,width // 6,2])\n",
        "  arr[:,:,0] = img1\n",
        "  arr[:,:,1] = img2\n",
        "  return arr"
      ],
      "metadata": {
        "id": "TvEEzSL9iRg5"
      },
      "execution_count": 32,
      "outputs": []
    },
    {
      "cell_type": "code",
      "source": [
        "def mixAndDiffImg(img1,img2):\n",
        "  return np.diff(np.diff(mixImg(img1,img2),axis=0),axis=1)"
      ],
      "metadata": {
        "id": "BtVsqgG-wcdT"
      },
      "execution_count": 33,
      "outputs": []
    },
    {
      "cell_type": "code",
      "source": [
        "def mixOfsubstructs(img1,img2):\n",
        "  return mixImg(img1-img2,img2-img1)"
      ],
      "metadata": {
        "id": "hoTm-TmI0WwF"
      },
      "execution_count": 34,
      "outputs": []
    },
    {
      "cell_type": "code",
      "source": [
        "#def prepareData()\n",
        "a = mixAndDiffImg(realSignatures[0][0],realSignatures[0][1])\n",
        "a.shape"
      ],
      "metadata": {
        "colab": {
          "base_uri": "https://localhost:8080/"
        },
        "id": "EAxKSiTc8WVI",
        "outputId": "bbb1a99a-c510-48ea-9b64-c28dfcd9c60b"
      },
      "execution_count": 35,
      "outputs": [
        {
          "output_type": "execute_result",
          "data": {
            "text/plain": [
              "(43, 107, 2)"
            ]
          },
          "metadata": {},
          "execution_count": 35
        }
      ]
    },
    {
      "cell_type": "code",
      "source": [
        "### total of 64 signatures : 50 for training, 10 for validation, 4 for test\n",
        "\n",
        "### Prepare data: when using classification stradegy \n",
        "### The data is composed of all possible problems: real-real and real-forged, when the model should predict if the second input is a forgery of the first input\n",
        "\n",
        "\n",
        "X_train =[]\n",
        "y_train =[]\n",
        "\n",
        "preprocess = mixOfsubstructs\n",
        "\n",
        "for i in range(50):\n",
        "  for j,sig in enumerate(realSignatures[i]):\n",
        "    \n",
        "    for k in range(len(realSignatures[i])):\n",
        "      X_train.append(preprocess(realSignatures[i][j],realSignatures[i][k]))\n",
        "      y_train.append(1)\n",
        "    \n",
        "    for k in range(len(forgedSignatures[i])):\n",
        "      X_train.append(preprocess(realSignatures[i][j],forgedSignatures[i][k]))\n",
        "      y_train.append(0) \n",
        "\n",
        "\n",
        "X_val =[]\n",
        "y_val =[]\n",
        "\n",
        "for i in range(50,64):\n",
        "  for j,sig in enumerate(realSignatures[i]):\n",
        "    \n",
        "    for k in range(j,len(realSignatures[i])):\n",
        "      X_val.append(preprocess(realSignatures[i][j],realSignatures[i][k]))\n",
        "      y_val.append(1)\n",
        "    \n",
        "    for k in range(j,len(forgedSignatures[i])):\n",
        "      X_val.append(preprocess(realSignatures[i][j],forgedSignatures[i][k]))\n",
        "      y_val.append(0) \n",
        "\n",
        "\n",
        "X_test =[]\n",
        "y_test =[]\n",
        "\n",
        "for i in range(60,64):\n",
        "  for j,sig in enumerate(realSignatures[i]):\n",
        "    \n",
        "    for k in range(j,len(realSignatures[i])):\n",
        "      X_test.append(preprocess(realSignatures[i][j],realSignatures[i][k]))\n",
        "      y_test.append(1)\n",
        "    \n",
        "    for k in range(j,len(forgedSignatures[i])):\n",
        "      X_test.append(preprocess(realSignatures[i][j],forgedSignatures[i][k]))\n",
        "      y_test.append(0)\n",
        "\n",
        "\n",
        "\n",
        "\n"
      ],
      "metadata": {
        "id": "c3hEwFDSkftd"
      },
      "execution_count": 36,
      "outputs": []
    },
    {
      "cell_type": "code",
      "source": [
        "## mix\n",
        "''''\n",
        "import random as rnd\n",
        "for i in range(len(X_train)*10):\n",
        "  rnd1=rnd.randint(0,len(X_train)-1)\n",
        "  rnd2=rnd.randint(0,len(X_train)-1)\n",
        "\n",
        "  tempX = X_train[rnd1]\n",
        "  tempy = y_train[rnd1]\n",
        "  y_train[rnd1] = y_train[rnd2]\n",
        "  y_train[rnd1] = y_train[rnd2]\n",
        "  print(\"dfdfdfs)hhfhf\n",
        "  X_train[rnd2] = tempX\n",
        "  y_train[rnd2] = tempy\n",
        "'''\n",
        "####"
      ],
      "metadata": {
        "colab": {
          "base_uri": "https://localhost:8080/",
          "height": 54
        },
        "id": "W87Nra3n-EUo",
        "outputId": "cb470c48-f221-4026-bace-e40e8dd9daf1"
      },
      "execution_count": 37,
      "outputs": [
        {
          "output_type": "execute_result",
          "data": {
            "text/plain": [
              "'\\'\\nimport random as rnd\\nfor i in range(len(X_train)*10):\\n  rnd1=rnd.randint(0,len(X_train)-1)\\n  rnd2=rnd.randint(0,len(X_train)-1)\\n\\n  tempX = X_train[rnd1]\\n  tempy = y_train[rnd1]\\n  y_train[rnd1] = y_train[rnd2]\\n  y_train[rnd1] = y_train[rnd2]\\n  print(\"dfdfdfs)hhfhf\\n  X_train[rnd2] = tempX\\n  y_train[rnd2] = tempy\\n'"
            ],
            "application/vnd.google.colaboratory.intrinsic+json": {
              "type": "string"
            }
          },
          "metadata": {},
          "execution_count": 37
        }
      ]
    },
    {
      "cell_type": "code",
      "source": [],
      "metadata": {
        "id": "zVBFd78fadut"
      },
      "execution_count": 37,
      "outputs": []
    },
    {
      "cell_type": "code",
      "source": [],
      "metadata": {
        "id": "AHMqRD58go6j"
      },
      "execution_count": 37,
      "outputs": []
    },
    {
      "cell_type": "code",
      "source": [
        "from keras.datasets import mnist\n",
        "from keras.models import Sequential\n",
        "from keras.layers import Dense\n",
        "from keras.layers import Dropout\n",
        "from keras.layers import Flatten\n",
        "from keras.layers.convolutional import Conv2D\n",
        "from keras.layers.convolutional import MaxPooling2D\n",
        "from keras.utils import np_utils\n",
        "\n",
        "def model():\n",
        "  model = Sequential()\n",
        "  model.add(Conv2D(32, (5, 5), input_shape=(height//6 , width//6 , 2), activation='relu'))\n",
        "  model.add(MaxPooling2D())\n",
        "  model.add(Dropout(0.2))\n",
        "  model.add(Flatten())\n",
        "  model.add(Dense(128, activation='relu'))\n",
        "  model.add(Dense(1, activation='sigmoid'))\n",
        "  # Compile model\n",
        "  return model"
      ],
      "metadata": {
        "id": "oCmNcDX5b9x3"
      },
      "execution_count": 38,
      "outputs": []
    },
    {
      "cell_type": "code",
      "source": [
        "model = model()"
      ],
      "metadata": {
        "id": "SQjMNMKPa72A"
      },
      "execution_count": 39,
      "outputs": []
    },
    {
      "cell_type": "code",
      "source": [
        "from tensorflow.keras.layers import *\n",
        "from tensorflow.keras.models import Model\n",
        "\n",
        "def inception_module(x, base_channels=32):\n",
        "  a = Conv2D(base_channels*2, 1, 1, activation='relu')(x)\n",
        "\n",
        "  b_1 = Conv2D(base_channels*2, 1, 1, activation='relu')(x)\n",
        "  b_2 = Conv2D(base_channels*4, 3, 1, padding='same', activation='relu')(b_1)\n",
        "\n",
        "  c_1 = Conv2D(base_channels, 1, 1, activation='relu')(x)\n",
        "  c_2 = Conv2D(base_channels, 5, 1, padding='same', activation='relu')(c_1)\n",
        "\n",
        "  d_1 = MaxPooling2D(3, 1, padding='same')(x)\n",
        "  d_2 = Conv2D(base_channels, 1, 1, activation='relu')(d_1)\n",
        "\n",
        "  return Concatenate(axis=-1)([a, b_2, c_2, d_2])\n",
        "\n",
        "inp = Input((height // 6, width // 6, 2))\n",
        "\n",
        "maps_1 = inception_module(inp)\n",
        "maps_2 = inception_module(maps_1, base_channels=16)\n",
        "\n",
        "gap = GlobalAveragePooling2D()(maps_2)\n",
        "\n",
        "output = Dense(1, activation='sigmoid')(gap)\n",
        "\n",
        "model = Model(inputs=inp, outputs=output)"
      ],
      "metadata": {
        "id": "JxIBv_-edGcD"
      },
      "execution_count": 40,
      "outputs": []
    },
    {
      "cell_type": "code",
      "source": [
        "model.compile(loss='BCE', optimizer='adam', metrics=['accuracy'])\n"
      ],
      "metadata": {
        "id": "II2P8lPkbQkd"
      },
      "execution_count": 41,
      "outputs": []
    },
    {
      "cell_type": "code",
      "source": [
        "history=model.fit(np.array(X_train), np.array(y_train), validation_data=(np.array(X_val), np.array(y_val)), epochs=5, batch_size=200)\n"
      ],
      "metadata": {
        "colab": {
          "base_uri": "https://localhost:8080/"
        },
        "id": "xdMHAgIRBAdk",
        "outputId": "964d56a1-5406-46dd-8348-1a8c6c51a521"
      },
      "execution_count": 42,
      "outputs": [
        {
          "output_type": "stream",
          "name": "stdout",
          "text": [
            "Epoch 1/5\n",
            "102/102 [==============================] - 70s 542ms/step - loss: 0.5921 - accuracy: 0.6730 - val_loss: 0.3473 - val_accuracy: 0.8910\n",
            "Epoch 2/5\n",
            "102/102 [==============================] - 54s 532ms/step - loss: 0.3297 - accuracy: 0.8582 - val_loss: 0.1985 - val_accuracy: 0.9132\n",
            "Epoch 3/5\n",
            "102/102 [==============================] - 55s 536ms/step - loss: 0.2449 - accuracy: 0.8956 - val_loss: 0.1840 - val_accuracy: 0.9201\n",
            "Epoch 4/5\n",
            "102/102 [==============================] - 55s 535ms/step - loss: 0.2114 - accuracy: 0.9124 - val_loss: 0.1321 - val_accuracy: 0.9487\n",
            "Epoch 5/5\n",
            "102/102 [==============================] - 55s 535ms/step - loss: 0.1913 - accuracy: 0.9237 - val_loss: 0.1396 - val_accuracy: 0.9403\n"
          ]
        }
      ]
    },
    {
      "cell_type": "markdown",
      "source": [
        "Signature generation from single input"
      ],
      "metadata": {
        "id": "UZBy1lB-oz0_"
      }
    },
    {
      "cell_type": "code",
      "source": [
        "\n",
        "    \n",
        " \n"
      ],
      "metadata": {
        "id": "Qv0t7fH6oyax"
      },
      "execution_count": 43,
      "outputs": []
    },
    {
      "cell_type": "code",
      "source": [],
      "metadata": {
        "id": "MsGHhRWrqcwj"
      },
      "execution_count": 44,
      "outputs": []
    },
    {
      "cell_type": "code",
      "source": [
        "\n"
      ],
      "metadata": {
        "id": "LihXVolkrSSn"
      },
      "execution_count": 45,
      "outputs": []
    },
    {
      "cell_type": "code",
      "source": [],
      "metadata": {
        "id": "vKgIfpvO2Rsa"
      },
      "execution_count": null,
      "outputs": []
    },
    {
      "cell_type": "code",
      "source": [],
      "metadata": {
        "id": "W7U4ApdZv166"
      },
      "execution_count": null,
      "outputs": []
    },
    {
      "cell_type": "code",
      "source": [],
      "metadata": {
        "id": "kPMSpFm_v-Xt"
      },
      "execution_count": null,
      "outputs": []
    },
    {
      "cell_type": "code",
      "source": [
        "#X_train_g[0].shape"
      ],
      "metadata": {
        "id": "5RRzZthIxuOV"
      },
      "execution_count": null,
      "outputs": []
    }
  ]
}